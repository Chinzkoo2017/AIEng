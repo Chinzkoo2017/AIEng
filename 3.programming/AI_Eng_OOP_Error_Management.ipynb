{
  "nbformat": 4,
  "nbformat_minor": 0,
  "metadata": {
    "colab": {
      "provenance": []
    },
    "kernelspec": {
      "name": "python3",
      "display_name": "Python 3"
    },
    "language_info": {
      "name": "python"
    }
  },
  "cells": [
    {
      "cell_type": "markdown",
      "source": [
        "#Python OOP Intro\n"
      ],
      "metadata": {
        "id": "bnUFOEWQznvS"
      }
    },
    {
      "cell_type": "code",
      "execution_count": 1,
      "metadata": {
        "colab": {
          "base_uri": "https://localhost:8080/"
        },
        "id": "_7e13btYzgvD",
        "outputId": "e17b1a4d-7069-46c8-d8b4-f0036a623997"
      },
      "outputs": [
        {
          "output_type": "stream",
          "name": "stdout",
          "text": [
            "car1 model : Prius\n"
          ]
        }
      ],
      "source": [
        "class Car:\n",
        "\n",
        "    def __init__(self,brand,model):\n",
        "        self.brand = brand\n",
        "        self.model = model\n",
        "\n",
        "car1 = Car('Toyota','Prius')\n",
        "print('car1 model :',car1.model)\n",
        "\n",
        "\n"
      ]
    },
    {
      "cell_type": "markdown",
      "source": [
        "#Python OOP Удамшил"
      ],
      "metadata": {
        "id": "Zyt9UV6W1A5x"
      }
    },
    {
      "cell_type": "code",
      "source": [
        "class Animal:\n",
        "     def sound(self):\n",
        "         print('Animal sound !')\n",
        "\n",
        "class Dog(Animal):\n",
        "     def sound(self):\n",
        "         print('Нохой хуцах !')\n",
        "\n",
        "\n",
        "banhar = Dog()\n",
        "banhar.sound()"
      ],
      "metadata": {
        "colab": {
          "base_uri": "https://localhost:8080/"
        },
        "id": "v9QaDgzh0bjO",
        "outputId": "9b9891c3-5b86-4057-c062-74a8135bc699"
      },
      "execution_count": 3,
      "outputs": [
        {
          "output_type": "stream",
          "name": "stdout",
          "text": [
            "Нохой хуцах !\n"
          ]
        }
      ]
    }
  ]
}