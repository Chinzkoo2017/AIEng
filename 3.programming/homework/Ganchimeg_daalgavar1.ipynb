{
  "nbformat": 4,
  "nbformat_minor": 0,
  "metadata": {
    "colab": {
      "provenance": [],
      "include_colab_link": true
    },
    "kernelspec": {
      "name": "python3",
      "display_name": "Python 3"
    },
    "language_info": {
      "name": "python"
    }
  },
  "cells": [
    {
      "cell_type": "markdown",
      "metadata": {
        "id": "view-in-github",
        "colab_type": "text"
      },
      "source": [
        "<a href=\"https://colab.research.google.com/github/deeplearningmn/AIEng/blob/main/Ganchimeg_daalgavar1.ipynb\" target=\"_parent\"><img src=\"https://colab.research.google.com/assets/colab-badge.svg\" alt=\"Open In Colab\"/></a>"
      ]
    },
    {
      "cell_type": "code",
      "source": [
        "import pandas as pd\n",
        "import requests\n",
        "\n",
        "# кино\n",
        "\n",
        "def fetch_movie_details(api_key, imdb_id):\n",
        "    url = f\"http://www.omdbapi.com/?i={imdb_id}&apikey={api_key}\"\n",
        "    response = requests.get(url)\n",
        "\n",
        "    if response.status_code == 200:\n",
        "        data = response.json()\n",
        "        title = data.get('Title', 'N/A')\n",
        "        genres = data.get('Genre', 'N/A').split(', ')\n",
        "        first_genre = genres[0] if genres else 'N/A'\n",
        "        ratings = data.get('imdbRating', 'N/A')\n",
        "        return title, first_genre, ratings\n",
        "    else:\n",
        "        return None, None, None\n",
        "\n",
        "# IMDB -ээс эхний 100 киноны өгөгдлийг татах\n",
        "\n",
        "def fetch_first_100_movies(api_key):\n",
        "    movies = []\n",
        "    total_movies = 100      # татах киноны тоо\n",
        "    pages = total_movies // 10\n",
        "\n",
        "    for page in range(1, pages + 1):\n",
        "        url = f\"http://www.omdbapi.com/?s=movie&apikey={api_key}&page={page}\"\n",
        "        response = requests.get(url)\n",
        "\n",
        "        if response.status_code == 200:\n",
        "            data = response.json()\n",
        "            if 'Search' in data:\n",
        "                movies.extend(data['Search'])\n",
        "            else:\n",
        "                break\n",
        "        else:\n",
        "            break\n",
        "\n",
        "    # DataFrame -д киноны өгөгдлийг хийх\n",
        "\n",
        "    movie_data = []\n",
        "    for movie in movies:\n",
        "        imdb_id = movie['imdbID']\n",
        "        title, first_genre, ratings = fetch_movie_details(api_key, imdb_id)\n",
        "        if title:\n",
        "            movie_data.append({'Title': title, 'Genre': first_genre, 'Ratings': ratings})\n",
        "\n",
        "    df = pd.DataFrame(movie_data)\n",
        "    return df\n",
        "\n",
        "filter_genre = 'Action' # Genres: Comedy, Animation, Action, Documentary, Adventure, Horror, Crime\n",
        "\n",
        "api_key = '3e086402'  # миний OMDb API key\n",
        "\n",
        "movies_df = fetch_first_100_movies(api_key) # бүх кино\n",
        "\n",
        "filtered_movies = movies_df[movies_df['Genre'] == filter_genre] # төрлөөр шүүлт хийсэн кино\n",
        "\n",
        "sorted_movies = filtered_movies.sort_values(by='Ratings', ascending=False) # үнэлгээгээр эрэмбэлсэн кино\n",
        "\n",
        "num_movies_to_print = 3 # санал болгох киноны тоо\n",
        "\n",
        "print(f\"Танд өндөр үнэлгээтэй {filter_genre} төрлийн дараах ТОП {num_movies_to_print} киног санал болгож байна\\n\")\n",
        "\n",
        "print(sorted_movies.head(num_movies_to_print)) # эрэмбийн эхний ... киног хэвлэх\n"
      ],
      "metadata": {
        "colab": {
          "base_uri": "https://localhost:8080/"
        },
        "id": "m2ZiW5esF7t8",
        "outputId": "1cc6c609-2081-497d-a2fd-3ec2f7aa2919"
      },
      "execution_count": null,
      "outputs": [
        {
          "output_type": "stream",
          "name": "stdout",
          "text": [
            "Танд өндөр үнэлгээтэй Action төрлийн дараах ТОП 3 киног санал болгож байна\n",
            "\n",
            "                                  Title   Genre Ratings\n",
            "88     Threat Level Midnight: The Movie  Action     9.6\n",
            "38                    Batman: The Movie  Action     6.5\n",
            "49  Wizards of Waverly Place: The Movie  Action     6.2\n"
          ]
        }
      ]
    }
  ]
}