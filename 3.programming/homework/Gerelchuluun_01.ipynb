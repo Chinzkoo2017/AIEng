{
  "nbformat": 4,
  "nbformat_minor": 0,
  "metadata": {
    "colab": {
      "provenance": []
    },
    "kernelspec": {
      "name": "python3",
      "display_name": "Python 3"
    },
    "language_info": {
      "name": "python"
    }
  },
  "cells": [
    {
      "cell_type": "code",
      "execution_count": null,
      "metadata": {
        "id": "UrneJh6CTmYG"
      },
      "outputs": [],
      "source": [
        "import pandas as pd\n",
        "df = pd.read_csv('movie.csv')\n",
        "\n",
        "#print(df.head())"
      ]
    },
    {
      "cell_type": "code",
      "source": [
        "\n",
        "#df['IMDB_Rating']\n",
        "\n",
        "\n",
        "high_rating_threshold = 8.8\n",
        "high_rated_movies = df[df['IMDB_Rating'] >= high_rating_threshold]\n",
        "high_rated_movies = high_rated_movies.sort_values(by='IMDB_Rating', ascending=False)\n",
        "\n",
        "\n",
        "print(\"Recommended High-Rated Movies:\")\n",
        "\n",
        "print(high_rated_movies[['Series_Title', 'IMDB_Rating']].reset_index(drop=True))\n"
      ],
      "metadata": {
        "colab": {
          "base_uri": "https://localhost:8080/"
        },
        "collapsed": true,
        "id": "nFzg9tOpT9nn",
        "outputId": "ef8ebb28-526f-4afb-c5df-daf40fec8631"
      },
      "execution_count": null,
      "outputs": [
        {
          "output_type": "stream",
          "name": "stdout",
          "text": [
            "Recommended High-Rated Movies:\n",
            "                                         Series_Title  IMDB_Rating\n",
            "0                            The Shawshank Redemption          9.3\n",
            "1                                       The Godfather          9.2\n",
            "2                                     The Dark Knight          9.0\n",
            "3                              The Godfather: Part II          9.0\n",
            "4                                        12 Angry Men          9.0\n",
            "5       The Lord of the Rings: The Return of the King          8.9\n",
            "6                                        Pulp Fiction          8.9\n",
            "7                                    Schindler's List          8.9\n",
            "8                                           Inception          8.8\n",
            "9                                          Fight Club          8.8\n",
            "10  The Lord of the Rings: The Fellowship of the Ring          8.8\n",
            "11                                       Forrest Gump          8.8\n",
            "12                    Il buono, il brutto, il cattivo          8.8\n"
          ]
        }
      ]
    }
  ]
}