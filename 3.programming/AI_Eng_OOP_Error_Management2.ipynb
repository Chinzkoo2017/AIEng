{
  "nbformat": 4,
  "nbformat_minor": 0,
  "metadata": {
    "colab": {
      "provenance": []
    },
    "kernelspec": {
      "name": "python3",
      "display_name": "Python 3"
    },
    "language_info": {
      "name": "python"
    }
  },
  "cells": [
    {
      "cell_type": "markdown",
      "source": [
        "#Python OOP Intro\n"
      ],
      "metadata": {
        "id": "bnUFOEWQznvS"
      }
    },
    {
      "cell_type": "code",
      "execution_count": null,
      "metadata": {
        "colab": {
          "base_uri": "https://localhost:8080/"
        },
        "id": "_7e13btYzgvD",
        "outputId": "e17b1a4d-7069-46c8-d8b4-f0036a623997"
      },
      "outputs": [
        {
          "output_type": "stream",
          "name": "stdout",
          "text": [
            "car1 model : Prius\n"
          ]
        }
      ],
      "source": [
        "class Car:\n",
        "\n",
        "    def __init__(self,brand,model):\n",
        "        self.brand = brand\n",
        "        self.model = model\n",
        "\n",
        "car1 = Car('Toyota','Prius')\n",
        "print('car1 model :',car1.model)\n",
        "\n",
        "\n"
      ]
    },
    {
      "cell_type": "markdown",
      "source": [
        "#Python OOP Удамшил"
      ],
      "metadata": {
        "id": "Zyt9UV6W1A5x"
      }
    },
    {
      "cell_type": "code",
      "source": [
        "class Animal:\n",
        "     def sound(self):\n",
        "         print('Animal sound !')\n",
        "\n",
        "class Dog(Animal):\n",
        "     def sound(self):\n",
        "         print('Нохой хуцах !')\n",
        "\n",
        "\n",
        "banhar = Dog()\n",
        "banhar.sound()"
      ],
      "metadata": {
        "colab": {
          "base_uri": "https://localhost:8080/"
        },
        "id": "v9QaDgzh0bjO",
        "outputId": "e068e175-e295-4367-f2e1-2ab5f8d4ae0f"
      },
      "execution_count": 1,
      "outputs": [
        {
          "output_type": "stream",
          "name": "stdout",
          "text": [
            "Нохой хуцах !\n"
          ]
        }
      ]
    },
    {
      "cell_type": "markdown",
      "source": [
        "#Python OOP Polymorphism"
      ],
      "metadata": {
        "id": "L2OMQw2_-tTI"
      }
    },
    {
      "cell_type": "code",
      "source": [
        "class Cat(Animal):\n",
        "\n",
        "      def sound(self):\n",
        "          print('Mye mye !')\n",
        "\n",
        "animals = [Dog(),Cat()]\n",
        "for animal in animals:\n",
        "    print(animal.sound())\n",
        "\n"
      ],
      "metadata": {
        "colab": {
          "base_uri": "https://localhost:8080/"
        },
        "id": "VSyERdpn-2sx",
        "outputId": "3a25c919-7122-4e08-fefa-f949bbe319ca"
      },
      "execution_count": 2,
      "outputs": [
        {
          "output_type": "stream",
          "name": "stdout",
          "text": [
            "Нохой хуцах !\n",
            "None\n",
            "Mye mye !\n",
            "None\n"
          ]
        }
      ]
    },
    {
      "cell_type": "markdown",
      "source": [
        "#Python OOP Encapsulation\n"
      ],
      "metadata": {
        "id": "VtSo-PvPAZ5l"
      }
    },
    {
      "cell_type": "code",
      "source": [
        "class BankAccount:\n",
        "\n",
        "    def __init__(self,balance):\n",
        "        self.__balance = balance\n",
        "\n",
        "    def get_balance(self):\n",
        "        return   self.__balance\n",
        "\n",
        "\n",
        "bank_account = BankAccount(100)\n",
        "print('Balance :',bank_account.get_balance())\n",
        "\n"
      ],
      "metadata": {
        "colab": {
          "base_uri": "https://localhost:8080/"
        },
        "id": "dT_yI7DRAd9T",
        "outputId": "3bd0f5c1-bcc5-4d7a-a4d7-4b5f9bfc27e2"
      },
      "execution_count": 5,
      "outputs": [
        {
          "output_type": "stream",
          "name": "stdout",
          "text": [
            "Balance : 100\n"
          ]
        }
      ]
    },
    {
      "cell_type": "markdown",
      "source": [
        "#Error Management\n"
      ],
      "metadata": {
        "id": "u1OeTB29Bq-D"
      }
    },
    {
      "cell_type": "code",
      "source": [
        "try:\n",
        "\n",
        "  print('Start ...')\n",
        "  a = 10/0\n",
        "\n",
        "  print('Second phase ...')\n",
        "\n",
        "except Exception as ex:\n",
        "  print('Error occured !')\n",
        "\n",
        "finally:\n",
        "  print('Finalized !')\n",
        "\n"
      ],
      "metadata": {
        "colab": {
          "base_uri": "https://localhost:8080/"
        },
        "id": "BgGNMgrYBuGx",
        "outputId": "89f94f2f-0606-4229-cd9c-0bf86b744a9c"
      },
      "execution_count": 7,
      "outputs": [
        {
          "output_type": "stream",
          "name": "stdout",
          "text": [
            "Start ...\n",
            "Error occured !\n",
            "Finalized !\n"
          ]
        }
      ]
    },
    {
      "cell_type": "markdown",
      "source": [
        "#Debug"
      ],
      "metadata": {
        "id": "MSdhfUVIDV1G"
      }
    },
    {
      "cell_type": "code",
      "source": [
        "def debug_sample():\n",
        "\n",
        "    name = 'Enkhtogtokh'\n",
        "    assert 'Enkh' in name\n",
        "    assert 'Togootogtokh' ==name\n",
        "\n",
        "debug_sample()\n"
      ],
      "metadata": {
        "colab": {
          "base_uri": "https://localhost:8080/",
          "height": 305
        },
        "id": "Oqlrgo6wDZo0",
        "outputId": "9d2d0114-8a6d-490f-c919-10de8736c0d5"
      },
      "execution_count": 8,
      "outputs": [
        {
          "output_type": "error",
          "ename": "AssertionError",
          "evalue": "",
          "traceback": [
            "\u001b[0;31m---------------------------------------------------------------------------\u001b[0m",
            "\u001b[0;31mAssertionError\u001b[0m                            Traceback (most recent call last)",
            "\u001b[0;32m<ipython-input-8-65531556e76d>\u001b[0m in \u001b[0;36m<cell line: 0>\u001b[0;34m()\u001b[0m\n\u001b[1;32m      5\u001b[0m     \u001b[0;32massert\u001b[0m \u001b[0;34m'Togootogtokh'\u001b[0m \u001b[0;34m==\u001b[0m\u001b[0mname\u001b[0m\u001b[0;34m\u001b[0m\u001b[0;34m\u001b[0m\u001b[0m\n\u001b[1;32m      6\u001b[0m \u001b[0;34m\u001b[0m\u001b[0m\n\u001b[0;32m----> 7\u001b[0;31m \u001b[0mdebug_sample\u001b[0m\u001b[0;34m(\u001b[0m\u001b[0;34m)\u001b[0m\u001b[0;34m\u001b[0m\u001b[0;34m\u001b[0m\u001b[0m\n\u001b[0m",
            "\u001b[0;32m<ipython-input-8-65531556e76d>\u001b[0m in \u001b[0;36mdebug_sample\u001b[0;34m()\u001b[0m\n\u001b[1;32m      3\u001b[0m     \u001b[0mname\u001b[0m \u001b[0;34m=\u001b[0m \u001b[0;34m'Enkhtogtokh'\u001b[0m\u001b[0;34m\u001b[0m\u001b[0;34m\u001b[0m\u001b[0m\n\u001b[1;32m      4\u001b[0m     \u001b[0;32massert\u001b[0m \u001b[0;34m'Enkh'\u001b[0m \u001b[0;32min\u001b[0m \u001b[0mname\u001b[0m\u001b[0;34m\u001b[0m\u001b[0;34m\u001b[0m\u001b[0m\n\u001b[0;32m----> 5\u001b[0;31m     \u001b[0;32massert\u001b[0m \u001b[0;34m'Togootogtokh'\u001b[0m \u001b[0;34m==\u001b[0m\u001b[0mname\u001b[0m\u001b[0;34m\u001b[0m\u001b[0;34m\u001b[0m\u001b[0m\n\u001b[0m\u001b[1;32m      6\u001b[0m \u001b[0;34m\u001b[0m\u001b[0m\n\u001b[1;32m      7\u001b[0m \u001b[0mdebug_sample\u001b[0m\u001b[0;34m(\u001b[0m\u001b[0;34m)\u001b[0m\u001b[0;34m\u001b[0m\u001b[0;34m\u001b[0m\u001b[0m\n",
            "\u001b[0;31mAssertionError\u001b[0m: "
          ]
        }
      ]
    }
  ]
}