{
  "nbformat": 4,
  "nbformat_minor": 0,
  "metadata": {
    "colab": {
      "provenance": []
    },
    "kernelspec": {
      "name": "python3",
      "display_name": "Python 3"
    },
    "language_info": {
      "name": "python"
    }
  },
  "cells": [
    {
      "cell_type": "code",
      "execution_count": 1,
      "metadata": {
        "colab": {
          "base_uri": "https://localhost:8080/"
        },
        "id": "r4DjJ7iKm7Vc",
        "outputId": "82dfde19-7abd-4bd8-9e15-5cdf5a7f3b71"
      },
      "outputs": [
        {
          "output_type": "stream",
          "name": "stdout",
          "text": [
            "X 1 : 10\n",
            "X 2 : 15\n"
          ]
        }
      ],
      "source": [
        "x = 10\n",
        "\n",
        "print('X 1 :',x)\n",
        "\n",
        "x = 15\n",
        "print('X 2 :',x)"
      ]
    },
    {
      "cell_type": "code",
      "source": [
        "y = 'Энхтогтох'\n",
        "print('y value 1:',y)\n",
        "\n",
        "y = 'Enkhtogtokh'\n",
        "print('y value 2:',y)"
      ],
      "metadata": {
        "colab": {
          "base_uri": "https://localhost:8080/"
        },
        "id": "nKu2brYWbctd",
        "outputId": "c88f561f-f3d4-40e3-94f9-905c6b16e9a9"
      },
      "execution_count": 3,
      "outputs": [
        {
          "output_type": "stream",
          "name": "stdout",
          "text": [
            "y value 1: Энхтогтох\n",
            "y value 2: Enkhtogtokh\n"
          ]
        }
      ]
    },
    {
      "cell_type": "markdown",
      "source": [
        "List data structure"
      ],
      "metadata": {
        "id": "1EEOm7qJn4q-"
      }
    },
    {
      "cell_type": "code",
      "source": [
        "numbers = [1,3,5,10]"
      ],
      "metadata": {
        "id": "1y-sjRfbn87N"
      },
      "execution_count": 6,
      "outputs": []
    },
    {
      "cell_type": "code",
      "source": [
        "print('Numbers list value :',numbers)"
      ],
      "metadata": {
        "colab": {
          "base_uri": "https://localhost:8080/"
        },
        "id": "qSKXptpaoCfw",
        "outputId": "5f3cc591-23a0-464a-f532-f1a81a568bc1"
      },
      "execution_count": 8,
      "outputs": [
        {
          "output_type": "stream",
          "name": "stdout",
          "text": [
            "Numbers list value : [1, 3, 5, 10]\n"
          ]
        }
      ]
    },
    {
      "cell_type": "code",
      "source": [
        "names = ['Enkhtogtokh','Togootogtokh','Enkh']\n",
        "print('names list value:',names)"
      ],
      "metadata": {
        "colab": {
          "base_uri": "https://localhost:8080/"
        },
        "id": "IBbYcsJdci1C",
        "outputId": "1985a1bb-f871-46cd-bf0b-25ec0696f58a"
      },
      "execution_count": 9,
      "outputs": [
        {
          "output_type": "stream",
          "name": "stdout",
          "text": [
            "names list value: ['Enkhtogtokh', 'Togootogtokh', 'Enkh']\n"
          ]
        }
      ]
    },
    {
      "cell_type": "code",
      "source": [
        "dict_var = {\"name\":\"Alice\",\"age\":22,'degree':'Ph.D'}\n",
        "print(\"dict var :\",dict_var)"
      ],
      "metadata": {
        "colab": {
          "base_uri": "https://localhost:8080/"
        },
        "id": "ga32jLNioyr7",
        "outputId": "5de20e47-9ad0-47b6-de8d-38373910a4bd"
      },
      "execution_count": 10,
      "outputs": [
        {
          "output_type": "stream",
          "name": "stdout",
          "text": [
            "dict var : {'name': 'Alice', 'age': 22, 'degree': 'Ph.D'}\n"
          ]
        }
      ]
    },
    {
      "cell_type": "code",
      "source": [
        "value1 = dict_var['age']\n",
        "print(\"age value :\",value1)"
      ],
      "metadata": {
        "colab": {
          "base_uri": "https://localhost:8080/"
        },
        "id": "MtNNbBHUpKw9",
        "outputId": "27e02255-db64-473f-c8d7-fe575b5e6333"
      },
      "execution_count": 12,
      "outputs": [
        {
          "output_type": "stream",
          "name": "stdout",
          "text": [
            "age value : 22\n"
          ]
        }
      ]
    },
    {
      "cell_type": "code",
      "source": [
        "number = 0\n",
        "\n",
        "if number>0:\n",
        "   print('Number is positive')\n",
        "elif number < 0 :\n",
        "   print('Number is negative ')\n",
        "else:\n",
        "   print('Number is zero ')"
      ],
      "metadata": {
        "colab": {
          "base_uri": "https://localhost:8080/"
        },
        "id": "t-vbTQHlp-1J",
        "outputId": "a1605fde-5d31-4275-e20c-3aae5ac81a4d"
      },
      "execution_count": 14,
      "outputs": [
        {
          "output_type": "stream",
          "name": "stdout",
          "text": [
            "Number is zero \n"
          ]
        }
      ]
    },
    {
      "cell_type": "code",
      "source": [
        "number = 10\n",
        "for i in range(5):\n",
        "    if i==1:\n",
        "       continue\n",
        "\n",
        "    print('i value :',i)\n",
        "    print('number value :',number)\n",
        "    if i==2:\n",
        "       break"
      ],
      "metadata": {
        "colab": {
          "base_uri": "https://localhost:8080/"
        },
        "id": "YXma5lYJqz54",
        "outputId": "8aa9eff5-3c57-499f-b0e4-670159c62549"
      },
      "execution_count": 19,
      "outputs": [
        {
          "output_type": "stream",
          "name": "stdout",
          "text": [
            "i value : 0\n",
            "number value : 10\n",
            "i value : 1\n",
            "number value : 10\n",
            "i value : 2\n",
            "number value : 10\n"
          ]
        }
      ]
    }
  ]
}