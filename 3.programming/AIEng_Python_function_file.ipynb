{
  "nbformat": 4,
  "nbformat_minor": 0,
  "metadata": {
    "colab": {
      "provenance": []
    },
    "kernelspec": {
      "name": "python3",
      "display_name": "Python 3"
    },
    "language_info": {
      "name": "python"
    }
  },
  "cells": [
    {
      "cell_type": "markdown",
      "source": [
        "#Python function intro"
      ],
      "metadata": {
        "id": "XCLyk3fpiMdj"
      }
    },
    {
      "cell_type": "code",
      "execution_count": 3,
      "metadata": {
        "colab": {
          "base_uri": "https://localhost:8080/"
        },
        "id": "mkmiK48ah2qN",
        "outputId": "46bfe1fd-bdf6-444e-eb28-e861ded36cdb"
      },
      "outputs": [
        {
          "output_type": "stream",
          "name": "stdout",
          "text": [
            "Name is  Enkh\n"
          ]
        }
      ],
      "source": [
        "def print_name(name):\n",
        "    print('Name is ',name)\n",
        "\n",
        "print_name('Enkh')"
      ]
    },
    {
      "cell_type": "markdown",
      "source": [
        "#Lambda function intro"
      ],
      "metadata": {
        "id": "X3IuQGhji8Mo"
      }
    },
    {
      "cell_type": "code",
      "source": [
        "add = lambda a,b:a+b\n",
        "\n",
        "value = add(1,2)\n",
        "print('value :',value)"
      ],
      "metadata": {
        "colab": {
          "base_uri": "https://localhost:8080/"
        },
        "id": "pelpi2QUjBHa",
        "outputId": "048ce93d-0096-4cfa-d139-f5b04f05249a"
      },
      "execution_count": 4,
      "outputs": [
        {
          "output_type": "stream",
          "name": "stdout",
          "text": [
            "value : 3\n"
          ]
        }
      ]
    },
    {
      "cell_type": "code",
      "source": [
        "import test\n",
        "\n",
        "test.hello()"
      ],
      "metadata": {
        "colab": {
          "base_uri": "https://localhost:8080/"
        },
        "id": "_FjurBvmj-I4",
        "outputId": "cc79dbab-c3ef-4433-83f3-72a8863862b0"
      },
      "execution_count": 7,
      "outputs": [
        {
          "output_type": "stream",
          "name": "stdout",
          "text": [
            "Hello !\n"
          ]
        }
      ]
    },
    {
      "cell_type": "code",
      "source": [
        "import math\n",
        "\n",
        "sqrt_value = math.sqrt(25)\n",
        "print('sqrt_value :',sqrt_value)"
      ],
      "metadata": {
        "colab": {
          "base_uri": "https://localhost:8080/"
        },
        "id": "H_te4M81k2zg",
        "outputId": "bdc305cb-1ecc-4b09-bb12-9ac557669a4d"
      },
      "execution_count": 8,
      "outputs": [
        {
          "output_type": "stream",
          "name": "stdout",
          "text": [
            "sqrt_value : 5.0\n"
          ]
        }
      ]
    },
    {
      "cell_type": "code",
      "source": [
        "import os\n",
        "\n",
        "dirs = os.listdir()\n",
        "print(dirs)"
      ],
      "metadata": {
        "colab": {
          "base_uri": "https://localhost:8080/"
        },
        "id": "j_GuCwoplWEZ",
        "outputId": "2cec69a4-8393-42ea-af6c-6df7aa9e770d"
      },
      "execution_count": 9,
      "outputs": [
        {
          "output_type": "stream",
          "name": "stdout",
          "text": [
            "['.config', '__pycache__', 'test.py', '.ipynb_checkpoints', 'sample_data']\n"
          ]
        }
      ]
    }
  ]
}