{
  "nbformat": 4,
  "nbformat_minor": 0,
  "metadata": {
    "colab": {
      "provenance": []
    },
    "kernelspec": {
      "name": "python3",
      "display_name": "Python 3"
    },
    "language_info": {
      "name": "python"
    }
  },
  "cells": [
    {
      "cell_type": "code",
      "execution_count": 1,
      "metadata": {
        "id": "Ew3cgePkCV6D",
        "colab": {
          "base_uri": "https://localhost:8080/"
        },
        "outputId": "7737db7d-10f1-4695-a37a-95d5f4d2b7d0"
      },
      "outputs": [
        {
          "output_type": "stream",
          "name": "stdout",
          "text": [
            "date :::: [[739355]]\n",
            "predict ::: [81296.76781608]\n"
          ]
        },
        {
          "output_type": "stream",
          "name": "stderr",
          "text": [
            "<ipython-input-1-a7345ad48a98>:8: UserWarning: Could not infer format, so each element will be parsed individually, falling back to `dateutil`. To ensure parsing is consistent and as-expected, please specify a format.\n",
            "  X_dates = pd.to_datetime([\n"
          ]
        }
      ],
      "source": [
        "import numpy as np\n",
        "import pandas as pd\n",
        "from sklearn.linear_model import LinearRegression\n",
        "from sklearn.metrics import mean_squared_error\n",
        "from datetime import datetime\n",
        "\n",
        "# Bitcoin ийн мдээллүүдийг өдөр болон ханшуудыг аваад дараа өдөр нь ханш хэд гарахыг тооцолно\n",
        "# datetime утгуудыг  numerical буюу тоо нь утга руу хөрвүүлэх\n",
        "X_dates = pd.to_datetime([\n",
        "    \"13-Apr-25\", \"12-Apr-25\", \"11-Apr-25\", \"10-Apr-25\", \"9-Apr-25\",\n",
        "    \"8-Apr-25\", \"7-Apr-25\", \"6-Apr-25\", \"5-Apr-25\", \"4-Apr-25\",\n",
        "    \"3-Apr-25\", \"2-Apr-25\", \"1-Apr-25\", \"31-Mar-25\", \"30-Mar-25\",\n",
        "    \"29-Mar-25\", \"28-Mar-25\", \"27-Mar-25\", \"26-Mar-25\", \"25-Mar-25\",\n",
        "    \"24-Mar-25\", \"23-Mar-25\", \"22-Mar-25\", \"21-Mar-25\", \"20-Mar-25\",\n",
        "    \"19-Mar-25\", \"18-Mar-25\", \"17-Mar-25\", \"16-Mar-25\", \"15-Mar-25\"\n",
        "])\n",
        "\n",
        "# Convert dates to ordinal numbers\n",
        "X_numeric = np.array([date.toordinal() for date in X_dates]).reshape(-1, 1)\n",
        "\n",
        "date_str =  pd.to_datetime([\"14-Apr-25\"])\n",
        "X_numeric1 = np.array([date.toordinal() for date in date_str]).reshape(-1, 1)\n",
        "\n",
        "print(\"date ::::\",X_numeric1)\n",
        "\n",
        "# өдрүүдэд харгалзах ханш\n",
        "y = np.array([\n",
        "    85305.10, 83439.29, 79596.36, 82622.17, 76329.09,\n",
        "    79179.29, 78211.48, 83595.89, 83852.01, 83163.99,\n",
        "    82526.42, 85237.59, 82514.09, 82356.38, 82679.17,\n",
        "    82659.00, 84428.00, 87234.00, 86912.00, 87404.00,\n",
        "    87490.00, 86077.00, 83840.00, 84073.00, 84208.00,\n",
        "    86841.00, 82719.00, 84019.00, 82578.00, 84341.00\n",
        "])\n",
        "\n",
        "# шугам регресс\n",
        "model = LinearRegression()\n",
        "model.fit(X_numeric, y)\n",
        "\n",
        "# таамаглал\n",
        "y_pred = model.predict(X_numeric1)\n",
        "#print(f\"Predicted Price------: {y_pred[0]:.2f}\")\n",
        "\n",
        "print(\"predict :::\",y_pred)\n",
        "# Calculate error (Mean Squared Error)\n",
        "#mse = mean_squared_error(y, y_pred)\n",
        "#print(f\"Mean Squared Error: {mse:.2f}\")\n",
        "\n",
        "\n",
        "\n"
      ]
    }
  ]
}