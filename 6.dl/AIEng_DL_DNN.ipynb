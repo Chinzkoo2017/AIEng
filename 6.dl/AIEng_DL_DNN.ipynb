{
  "cells": [
    {
      "cell_type": "markdown",
      "metadata": {
        "id": "0EPJa-A-XiGE"
      },
      "source": [
        "# 🔢 PyTorch NN жишээ\n",
        "шугаман NN загварыг PyTorch ашиглан хэрэгжүүлсэн жишээ\n",
        "\n",
        "[![Open In Colab](https://colab.research.google.com/assets/colab-badge.svg)](https://colab.research.google.com/drive/1J2jY1w19GB97mv9nrPKK2yFoGNLsBvua?usp=sharing)"
      ],
      "id": "0EPJa-A-XiGE"
    },
    {
      "cell_type": "code",
      "source": [
        "!pip install torch==2.4.5"
      ],
      "metadata": {
        "id": "WAcOJY6V3vEI"
      },
      "id": "WAcOJY6V3vEI",
      "execution_count": null,
      "outputs": []
    },
    {
      "cell_type": "code",
      "source": [
        "!pip show torch"
      ],
      "metadata": {
        "colab": {
          "base_uri": "https://localhost:8080/"
        },
        "id": "UW6OxIZf30Ql",
        "outputId": "7a0364dc-a695-4031-a7a7-d555f4aa444c"
      },
      "id": "UW6OxIZf30Ql",
      "execution_count": null,
      "outputs": [
        {
          "output_type": "stream",
          "name": "stdout",
          "text": [
            "Name: torch\n",
            "Version: 2.6.0+cu124\n",
            "Summary: Tensors and Dynamic neural networks in Python with strong GPU acceleration\n",
            "Home-page: https://pytorch.org/\n",
            "Author: PyTorch Team\n",
            "Author-email: packages@pytorch.org\n",
            "License: BSD-3-Clause\n",
            "Location: /usr/local/lib/python3.11/dist-packages\n",
            "Requires: filelock, fsspec, jinja2, networkx, nvidia-cublas-cu12, nvidia-cuda-cupti-cu12, nvidia-cuda-nvrtc-cu12, nvidia-cuda-runtime-cu12, nvidia-cudnn-cu12, nvidia-cufft-cu12, nvidia-curand-cu12, nvidia-cusolver-cu12, nvidia-cusparse-cu12, nvidia-cusparselt-cu12, nvidia-nccl-cu12, nvidia-nvjitlink-cu12, nvidia-nvtx-cu12, sympy, triton, typing-extensions\n",
            "Required-by: accelerate, fastai, peft, sentence-transformers, timm, torchaudio, torchvision\n"
          ]
        }
      ]
    },
    {
      "cell_type": "code",
      "execution_count": null,
      "metadata": {
        "id": "WmfSLhPnXiGG"
      },
      "outputs": [],
      "source": [
        "# 📦 Сангуудыг импортлох\n",
        "import torch\n",
        "import torch.nn as nn\n",
        "import torch.optim as optim\n",
        "import matplotlib.pyplot as plt"
      ],
      "id": "WmfSLhPnXiGG"
    },
    {
      "cell_type": "code",
      "execution_count": null,
      "metadata": {
        "id": "7iDvVMKcXiGG"
      },
      "outputs": [],
      "source": [
        "# 📚 Сургах өгөгдөл\n",
        "X = torch.tensor([[4.0], [5.0], [10.0], [14.0]])\n",
        "Y = torch.tensor([[60.0], [70.0], [130.0], [160.0]])"
      ],
      "id": "7iDvVMKcXiGG"
    },
    {
      "cell_type": "code",
      "execution_count": null,
      "metadata": {
        "id": "72ZAJLicXiGG"
      },
      "outputs": [],
      "source": [
        "# 🧠 Шугаман NN загвар тодорхойлох\n",
        "class LinearNNModel(nn.Module):\n",
        "    def __init__(self):\n",
        "        super().__init__()\n",
        "        self.linear = nn.Linear(1, 1)\n",
        "\n",
        "    def forward(self, x):\n",
        "        return self.linear(x)\n",
        "\n",
        "model = LinearNNModel()"
      ],
      "id": "72ZAJLicXiGG"
    },
    {
      "cell_type": "code",
      "source": [
        "# 🧠 Гүн NN (Deep Neural Network) загвар тодорхойлох\n",
        "class DeepNNModel(nn.Module):\n",
        "    def __init__(self, input_dim=1, hidden_dim=32, output_dim=1):\n",
        "        super().__init__()\n",
        "        self.model = nn.Sequential(\n",
        "            nn.Linear(input_dim, hidden_dim),  # оролт -> нууц давхарга\n",
        "            nn.ReLU(),                         # activation функц\n",
        "            nn.Linear(hidden_dim, hidden_dim), # hidden давхарга\n",
        "            nn.ReLU(),\n",
        "            nn.Linear(hidden_dim, output_dim)  # гаралт\n",
        "        )\n",
        "\n",
        "    def forward(self, x):\n",
        "        return self.model(x)\n",
        "\n",
        "# Загвар үүсгэх\n",
        "model = DeepNNModel()"
      ],
      "metadata": {
        "id": "W6HelCPIh0Sn"
      },
      "id": "W6HelCPIh0Sn",
      "execution_count": null,
      "outputs": []
    },
    {
      "cell_type": "code",
      "execution_count": null,
      "metadata": {
        "id": "1Kxbp_87XiGH"
      },
      "outputs": [],
      "source": [
        "# ⚙️ Алдагдлын функц ба optimizor\n",
        "criterion = nn.MSELoss()\n",
        "optimizer = optim.SGD(model.parameters(), lr=0.01)"
      ],
      "id": "1Kxbp_87XiGH"
    },
    {
      "cell_type": "code",
      "execution_count": null,
      "metadata": {
        "colab": {
          "base_uri": "https://localhost:8080/"
        },
        "id": "UcAki2ltXiGH",
        "outputId": "ce13b1a3-6be1-48ba-93e0-f3a96555a20c"
      },
      "outputs": [
        {
          "output_type": "stream",
          "name": "stdout",
          "text": [
            "Epoch 0: Loss = 19.2012\n",
            "Epoch 50: Loss = 18.6832\n",
            "Epoch 100: Loss = 18.3295\n",
            "Epoch 150: Loss = 18.0879\n",
            "Epoch 200: Loss = 17.9229\n",
            "Epoch 250: Loss = 17.8103\n",
            "Epoch 300: Loss = 17.7333\n",
            "Epoch 350: Loss = 17.6807\n",
            "Epoch 400: Loss = 17.6449\n",
            "Epoch 450: Loss = 17.6204\n",
            "Epoch 500: Loss = 17.6036\n",
            "Epoch 550: Loss = 17.5922\n",
            "Epoch 600: Loss = 17.5844\n",
            "Epoch 650: Loss = 17.5791\n",
            "Epoch 700: Loss = 17.5754\n",
            "Epoch 750: Loss = 17.5729\n",
            "Epoch 800: Loss = 17.5712\n",
            "Epoch 850: Loss = 17.5701\n",
            "Epoch 900: Loss = 17.5693\n",
            "Epoch 950: Loss = 17.5687\n",
            "Epoch 1000: Loss = 17.5683\n",
            "Epoch 1050: Loss = 17.5681\n",
            "Epoch 1100: Loss = 17.5679\n",
            "Epoch 1150: Loss = 17.5678\n",
            "Epoch 1200: Loss = 17.5677\n",
            "Epoch 1250: Loss = 17.5677\n",
            "Epoch 1300: Loss = 17.5676\n",
            "Epoch 1350: Loss = 17.5676\n",
            "Epoch 1400: Loss = 17.5676\n",
            "Epoch 1450: Loss = 17.5676\n"
          ]
        }
      ],
      "source": [
        "# Сургах давталт\n",
        "num_epochs = 1500\n",
        "for epoch in range(num_epochs):\n",
        "    predictions = model(X)\n",
        "    loss = criterion(predictions, Y)\n",
        "\n",
        "    optimizer.zero_grad()\n",
        "    loss.backward()\n",
        "    optimizer.step()\n",
        "\n",
        "    if epoch % 50 == 0:\n",
        "        print(f\"Epoch {epoch}: Loss = {loss.item():.4f}\")"
      ],
      "id": "UcAki2ltXiGH"
    },
    {
      "cell_type": "code",
      "execution_count": null,
      "metadata": {
        "colab": {
          "base_uri": "https://localhost:8080/",
          "height": 449
        },
        "id": "_VlFe-yHXiGH",
        "outputId": "b96c9ada-2d83-49fe-fb2f-4715bee80a90"
      },
      "outputs": [
        {
          "output_type": "display_data",
          "data": {
            "text/plain": [
              "<Figure size 640x480 with 1 Axes>"
            ],
            "image/png": "[encoded data removed]"
          },
          "metadata": {}
        }
      ],
      "source": [
        "# 📈 Үр дүнг дүрслэх\n",
        "predicted = model(X).detach().numpy()\n",
        "plt.scatter(X.numpy(), Y.numpy(), label=\"Жинхэнэ өгөгдөл\")\n",
        "plt.plot(X.numpy(), predicted, label=\"Шугаман загвар\", color='red')\n",
        "plt.xlabel(\"X (нас)\")\n",
        "plt.ylabel(\"Y (жин)\")\n",
        "plt.legend()\n",
        "plt.grid(True)\n",
        "plt.show()"
      ],
      "id": "_VlFe-yHXiGH"
    },
    {
      "cell_type": "code",
      "execution_count": null,
      "metadata": {
        "colab": {
          "base_uri": "https://localhost:8080/"
        },
        "id": "LkdfCaG0XiGH",
        "outputId": "69269fff-2975-4528-e3d0-0f381c13ad13"
      },
      "outputs": [
        {
          "output_type": "stream",
          "name": "stdout",
          "text": [
            "W1 (налуу): 10.27, W0 (зүсэлт): 20.26\n"
          ]
        }
      ],
      "source": [
        "# 📌 Жинхэнэ коэффициентүүдийг харуулах\n",
        "[w1, w0] = list(model.parameters())\n",
        "print(f\"W1 : {w1.item():.2f}, W0 : {w0.item():.2f}\")"
      ],
      "id": "LkdfCaG0XiGH"
    }
  ],
  "metadata": {
    "kernelspec": {
      "display_name": "Python 3",
      "language": "python",
      "name": "python3"
    },
    "language_info": {
      "name": "python",
      "version": "3.x"
    },
    "colab": {
      "provenance": []
    }
  },
  "nbformat": 4,
  "nbformat_minor": 5
}