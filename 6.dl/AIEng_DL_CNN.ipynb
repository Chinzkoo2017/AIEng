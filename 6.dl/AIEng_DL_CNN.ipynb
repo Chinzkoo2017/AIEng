{
  "nbformat": 4,
  "nbformat_minor": 0,
  "metadata": {
    "colab": {
      "provenance": [],
      "gpuType": "T4"
    },
    "kernelspec": {
      "name": "python3",
      "display_name": "Python 3"
    },
    "language_info": {
      "name": "python"
    },
    "accelerator": "GPU"
  },
  "cells": [
    {
      "cell_type": "markdown",
      "source": [
        "[![Open In Colab](https://colab.research.google.com/assets/colab-badge.svg)](https://colab.research.google.com/drive/1suuoPuw8EKSYxnH6Shnv_tHuT4Qs9nnq?usp=sharing)"
      ],
      "metadata": {
        "id": "UsRvU1uLViVn"
      }
    },
    {
      "cell_type": "code",
      "source": [
        "# 1. Сангуудыг импортлох\n",
        "import torch\n",
        "import torch.nn as nn\n",
        "import torch.optim as optim\n",
        "from torchvision import datasets, transforms\n",
        "from torch.utils.data import DataLoader\n",
        "import matplotlib.pyplot as plt"
      ],
      "metadata": {
        "id": "06TGUz3uPJC1"
      },
      "execution_count": 1,
      "outputs": []
    },
    {
      "cell_type": "code",
      "source": [
        "# 2. Төхөөрөмж шалгах\n",
        "device = torch.device(\"cuda\" if torch.cuda.is_available() else \"cpu\")"
      ],
      "metadata": {
        "id": "uLNtqsJzPKAK"
      },
      "execution_count": 2,
      "outputs": []
    },
    {
      "cell_type": "code",
      "source": [
        "\n",
        "# 3. MNIST dataset\n",
        "transform = transforms.Compose([transforms.ToTensor()])\n",
        "train_dataset = datasets.MNIST(root='./data', train=True, transform=transform, download=True)\n",
        "test_dataset = datasets.MNIST(root='./data', train=False, transform=transform)\n",
        "\n",
        "train_loader = DataLoader(train_dataset, batch_size=64, shuffle=True)\n",
        "test_loader = DataLoader(test_dataset, batch_size=1000, shuffle=False)"
      ],
      "metadata": {
        "colab": {
          "base_uri": "https://localhost:8080/"
        },
        "id": "JgrL7zHePKTq",
        "outputId": "1a603818-121c-4f59-fada-6afc4b0af8f6"
      },
      "execution_count": 3,
      "outputs": [
        {
          "output_type": "stream",
          "name": "stderr",
          "text": [
            "100%|██████████| 9.91M/9.91M [00:00<00:00, 10.6MB/s]\n",
            "100%|██████████| 28.9k/28.9k [00:00<00:00, 340kB/s]\n",
            "100%|██████████| 1.65M/1.65M [00:00<00:00, 3.20MB/s]\n",
            "100%|██████████| 4.54k/4.54k [00:00<00:00, 8.47MB/s]\n"
          ]
        }
      ]
    },
    {
      "cell_type": "code",
      "source": [
        "# 4. CNN Загвар тодорхойлох\n",
        "class CNN(nn.Module):\n",
        "    def __init__(self):\n",
        "        super(CNN, self).__init__()\n",
        "        self.conv1 = nn.Conv2d(1, 32, 3, padding=1)  # (batch, 1, 28, 28) -> (batch, 32, 28, 28)\n",
        "        self.pool = nn.MaxPool2d(2, 2)               # -> (batch, 32, 14, 14)\n",
        "        self.conv2 = nn.Conv2d(32, 64, 3, padding=1) # -> (batch, 64, 14, 14)\n",
        "        self.fc1 = nn.Linear(64 * 7 * 7, 128)\n",
        "        self.fc2 = nn.Linear(128, 10)\n",
        "\n",
        "    def forward(self, x):\n",
        "        x = self.pool(torch.relu(self.conv1(x)))\n",
        "        x = self.pool(torch.relu(self.conv2(x)))\n",
        "        x = x.view(-1, 64 * 7 * 7)\n",
        "        x = torch.relu(self.fc1(x))\n",
        "        x = self.fc2(x)\n",
        "        return x"
      ],
      "metadata": {
        "id": "LDM5gTgQPPBw"
      },
      "execution_count": 4,
      "outputs": []
    },
    {
      "cell_type": "code",
      "execution_count": 5,
      "metadata": {
        "colab": {
          "base_uri": "https://localhost:8080/",
          "height": 559
        },
        "id": "FUwIDk-pOwud",
        "outputId": "84cc3a51-5bb8-4d9a-9a51-360a4fd63d4f"
      },
      "outputs": [
        {
          "output_type": "stream",
          "name": "stdout",
          "text": [
            "Epoch 1, Loss: 0.1812\n",
            "Epoch 2, Loss: 0.0491\n",
            "Epoch 3, Loss: 0.0356\n",
            "Epoch 4, Loss: 0.0259\n",
            "Epoch 5, Loss: 0.0192\n",
            "Accuracy: 98.78%\n"
          ]
        },
        {
          "output_type": "display_data",
          "data": {
            "text/plain": [
              "<Figure size 640x480 with 1 Axes>"
            ],
            "image/png": "[encoded data removed]"
          },
          "metadata": {}
        }
      ],
      "source": [
        "model = CNN().to(device)\n",
        "criterion = nn.CrossEntropyLoss()\n",
        "optimizer = optim.Adam(model.parameters(), lr=0.001)\n",
        "\n",
        "# 5. Сургалтын функц\n",
        "def train(model, loader, epochs):\n",
        "    model.train()\n",
        "    for epoch in range(epochs):\n",
        "        total_loss = 0\n",
        "        for data, target in loader:\n",
        "            data, target = data.to(device), target.to(device)\n",
        "            optimizer.zero_grad()\n",
        "            output = model(data)\n",
        "            loss = criterion(output, target)\n",
        "            loss.backward()\n",
        "            optimizer.step()\n",
        "            total_loss += loss.item()\n",
        "        print(f\"Epoch {epoch+1}, Loss: {total_loss/len(loader):.4f}\")\n",
        "\n",
        "# 6. Үнэлгээний функц\n",
        "def evaluate(model, loader):\n",
        "    model.eval()\n",
        "    correct = 0\n",
        "    total = 0\n",
        "    with torch.no_grad():\n",
        "        for data, target in loader:\n",
        "            data, target = data.to(device), target.to(device)\n",
        "            outputs = model(data)\n",
        "            _, predicted = torch.max(outputs.data, 1)\n",
        "            total += target.size(0)\n",
        "            correct += (predicted == target).sum().item()\n",
        "    print(f\"Accuracy: {100 * correct / total:.2f}%\")\n",
        "\n",
        "\n"
      ]
    },
    {
      "cell_type": "code",
      "source": [
        "# 7. Модел хадгалах функц\n",
        "def save_model(model, path=\"model.pth\"):\n",
        "    torch.save(model.state_dict(), path)\n",
        "\n",
        "# 8. Модел ачаалж inference хийх функц\n",
        "def load_model(path=\"model.pth\"):\n",
        "    model = CNN().to(device)\n",
        "    model.load_state_dict(torch.load(path))\n",
        "    model.eval()\n",
        "    return model\n",
        "\n",
        "def predict(model, image):\n",
        "    model.eval()\n",
        "    with torch.no_grad():\n",
        "        image = image.to(device)\n",
        "        output = model(image.unsqueeze(0))  # (1, 1, 28, 28)\n",
        "        prediction = output.argmax(dim=1, keepdim=True)\n",
        "        return prediction.item()\n",
        "\n",
        "# 9. Загвар сургалт, хадгалалт, үнэлгээ\n",
        "train(model, train_loader, epochs=5)\n",
        "evaluate(model, test_loader)\n",
        "save_model(model)\n",
        "\n",
        "# 10. Загвар ачаалж зураг таамаглах (inference)\n",
        "loaded_model = load_model()\n",
        "example_data, _ = test_dataset[0]\n",
        "plt.imshow(example_data.squeeze(), cmap='gray')\n",
        "plt.title(f\"Prediction: {predict(loaded_model, example_data)}\")\n",
        "plt.show()"
      ],
      "metadata": {
        "id": "MfPd2h20QSI1"
      },
      "execution_count": null,
      "outputs": []
    }
  ]
}