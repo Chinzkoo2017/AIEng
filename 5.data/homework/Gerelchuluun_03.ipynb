{
  "nbformat": 4,
  "nbformat_minor": 0,
  "metadata": {
    "colab": {
      "provenance": []
    },
    "kernelspec": {
      "name": "python3",
      "display_name": "Python 3"
    },
    "language_info": {
      "name": "python"
    }
  },
  "cells": [
    {
      "cell_type": "code",
      "execution_count": 1,
      "metadata": {
        "colab": {
          "base_uri": "https://localhost:8080/"
        },
        "id": "IA1zlgIzuchB",
        "outputId": "f491e779-39ae-4080-a6de-6826896965eb"
      },
      "outputs": [
        {
          "output_type": "stream",
          "name": "stdout",
          "text": [
            "Requirement already satisfied: pyspark in /usr/local/lib/python3.11/dist-packages (3.5.5)\n",
            "Requirement already satisfied: py4j==0.10.9.7 in /usr/local/lib/python3.11/dist-packages (from pyspark) (0.10.9.7)\n"
          ]
        }
      ],
      "source": [
        "!pip install pyspark\n"
      ]
    },
    {
      "cell_type": "code",
      "source": [
        "\n",
        "from pyspark.sql import SparkSession\n",
        "import urllib.request\n",
        "from io import StringIO\n",
        "\n",
        "# SparkSession үүсгэж байна\n",
        "spark = SparkSession.builder.appName(\"ETL with PySpark\").getOrCreate()\n",
        "\n",
        "# Spark-ийн хувийн конфигурацийг шалгах\n",
        "print(f\"PySpark version: {spark.version}\")"
      ],
      "metadata": {
        "colab": {
          "base_uri": "https://localhost:8080/"
        },
        "id": "vfZz_Q0yuscS",
        "outputId": "6d33bb03-eef6-474d-ea71-54f0e22b3d44"
      },
      "execution_count": 2,
      "outputs": [
        {
          "output_type": "stream",
          "name": "stdout",
          "text": [
            "PySpark version: 3.5.5\n"
          ]
        }
      ]
    },
    {
      "cell_type": "code",
      "source": [],
      "metadata": {
        "id": "5A-H8_U2vIj8"
      },
      "execution_count": null,
      "outputs": []
    },
    {
      "cell_type": "code",
      "source": [
        "import urllib.request\n",
        "\n",
        "# URL болон хадгалах зам\n",
        "url = \"https://raw.githubusercontent.com/datasets/covid-19/master/data/countries-aggregated.csv\"\n",
        "file_path = \"/content/countries-aggregated.csv\"\n",
        "\n",
        "# Файлыг татаж авах\n",
        "urllib.request.urlretrieve(url, file_path)"
      ],
      "metadata": {
        "colab": {
          "base_uri": "https://localhost:8080/"
        },
        "id": "OSjV9YSEuzU2",
        "outputId": "a8aa60d2-6440-463b-f8ed-125f283c4094"
      },
      "execution_count": 3,
      "outputs": [
        {
          "output_type": "execute_result",
          "data": {
            "text/plain": [
              "('/content/countries-aggregated.csv',\n",
              " <http.client.HTTPMessage at 0x7e5ae477a410>)"
            ]
          },
          "metadata": {},
          "execution_count": 3
        }
      ]
    },
    {
      "cell_type": "code",
      "source": [
        "# Өгөгдөл унших (CSV форматаар)\n",
        "\n",
        "# DataFrame-д хөрвүүлэх\n",
        "df = spark.read.csv(file_path, header=True, inferSchema=True)\n",
        "\n",
        "\n",
        "\n",
        "# Эхний 5 мөрийг харах\n",
        "df.show(5)\n",
        "\n",
        "# ДатаFrame-ийн бүтцийг шалгах\n",
        "df.printSchema()\n",
        "\n",
        "# Статистик мэдээллийг харах\n",
        "df.describe().show()"
      ],
      "metadata": {
        "colab": {
          "base_uri": "https://localhost:8080/"
        },
        "id": "w_ZFX6WGvKBV",
        "outputId": "e0e092e3-11d3-4d40-d093-6fc3d086e6ca"
      },
      "execution_count": 11,
      "outputs": [
        {
          "output_type": "stream",
          "name": "stdout",
          "text": [
            "+----------+-----------+---------+---------+------+\n",
            "|      Date|    Country|Confirmed|Recovered|Deaths|\n",
            "+----------+-----------+---------+---------+------+\n",
            "|2020-01-22|Afghanistan|        0|        0|     0|\n",
            "|2020-01-23|Afghanistan|        0|        0|     0|\n",
            "|2020-01-24|Afghanistan|        0|        0|     0|\n",
            "|2020-01-25|Afghanistan|        0|        0|     0|\n",
            "|2020-01-26|Afghanistan|        0|        0|     0|\n",
            "+----------+-----------+---------+---------+------+\n",
            "only showing top 5 rows\n",
            "\n",
            "root\n",
            " |-- Date: date (nullable = true)\n",
            " |-- Country: string (nullable = true)\n",
            " |-- Confirmed: integer (nullable = true)\n",
            " |-- Recovered: integer (nullable = true)\n",
            " |-- Deaths: integer (nullable = true)\n",
            "\n",
            "+-------+-----------+-----------------+------------------+-----------------+\n",
            "|summary|    Country|        Confirmed|         Recovered|           Deaths|\n",
            "+-------+-----------+-----------------+------------------+-----------------+\n",
            "|  count|     161568|           161568|            161568|           161568|\n",
            "|   mean|       NULL|736156.9340092097|145396.71189220637|13999.43608882947|\n",
            "| stddev|       NULL|3578884.222668364| 974827.5085659497|59113.58127111689|\n",
            "|    min|Afghanistan|                0|                 0|                0|\n",
            "|    max|   Zimbabwe|         80625120|          30974748|           988609|\n",
            "+-------+-----------+-----------------+------------------+-----------------+\n",
            "\n"
          ]
        }
      ]
    },
    {
      "cell_type": "code",
      "source": [
        "\n",
        "# Шинэ багана нэмж байна: 'Total' гэдэг баганад нийт тоо гаргах\n",
        "df = df.withColumn(\"Total\", df[\"Confirmed\"] + df[\"Recovered\"])\n",
        "df_filtered.show(11)\n",
        "\n",
        "# Батлагдсан тохиолдол 1000-аас их Монголын үзүүлэлт\n",
        "df_filtered = df.filter(df[\"Country\"] == 'Mongolia').filter(df[\"Confirmed\"] > 1000)\n",
        "df_filtered.show(11)\n",
        "\n",
        "# Монгол эдгэрсэн хүний нийт тоо\n",
        "df_grouped = df_filtered.groupBy(\"Country\").sum(\"Recovered\").orderBy(\"sum(Recovered)\", ascending=False)\n",
        "df_grouped.show(11)\n",
        ""
      ],
      "metadata": {
        "colab": {
          "base_uri": "https://localhost:8080/"
        },
        "id": "EEUbqQK7vSS8",
        "outputId": "aec69e5d-4636-4941-fb4a-4f909e1b80c5"
      },
      "execution_count": 31,
      "outputs": [
        {
          "output_type": "stream",
          "name": "stdout",
          "text": [
            "+----------+--------+---------+---------+------+-----+\n",
            "|      Date| Country|Confirmed|Recovered|Deaths|Total|\n",
            "+----------+--------+---------+---------+------+-----+\n",
            "|2020-12-23|Mongolia|     1006|      584|     0| 1590|\n",
            "|2020-12-24|Mongolia|     1063|      584|     0| 1647|\n",
            "|2020-12-25|Mongolia|     1069|      711|     0| 1780|\n",
            "|2020-12-26|Mongolia|     1075|      711|     0| 1786|\n",
            "|2020-12-27|Mongolia|     1082|      711|     0| 1793|\n",
            "|2020-12-28|Mongolia|     1121|      745|     0| 1866|\n",
            "|2020-12-29|Mongolia|     1137|      824|     1| 1961|\n",
            "|2020-12-30|Mongolia|     1175|      830|     1| 2005|\n",
            "|2020-12-31|Mongolia|     1195|      837|     1| 2032|\n",
            "|2021-01-01|Mongolia|     1220|      855|     1| 2075|\n",
            "|2021-01-02|Mongolia|     1242|      869|     1| 2111|\n",
            "+----------+--------+---------+---------+------+-----+\n",
            "only showing top 11 rows\n",
            "\n",
            "+----------+--------+---------+---------+------+-----+\n",
            "|      Date| Country|Confirmed|Recovered|Deaths|Total|\n",
            "+----------+--------+---------+---------+------+-----+\n",
            "|2020-12-23|Mongolia|     1006|      584|     0| 1590|\n",
            "|2020-12-24|Mongolia|     1063|      584|     0| 1647|\n",
            "|2020-12-25|Mongolia|     1069|      711|     0| 1780|\n",
            "|2020-12-26|Mongolia|     1075|      711|     0| 1786|\n",
            "|2020-12-27|Mongolia|     1082|      711|     0| 1793|\n",
            "|2020-12-28|Mongolia|     1121|      745|     0| 1866|\n",
            "|2020-12-29|Mongolia|     1137|      824|     1| 1961|\n",
            "|2020-12-30|Mongolia|     1175|      830|     1| 2005|\n",
            "|2020-12-31|Mongolia|     1195|      837|     1| 2032|\n",
            "|2021-01-01|Mongolia|     1220|      855|     1| 2075|\n",
            "|2021-01-02|Mongolia|     1242|      869|     1| 2111|\n",
            "+----------+--------+---------+---------+------+-----+\n",
            "only showing top 11 rows\n",
            "\n",
            "+--------+--------------+\n",
            "| Country|sum(Recovered)|\n",
            "+--------+--------------+\n",
            "|Mongolia|       8044336|\n",
            "+--------+--------------+\n",
            "\n"
          ]
        }
      ]
    },
    {
      "cell_type": "code",
      "source": [
        "# Өгөгдлийг CSV болон Parquet хэлбэрээр хадгалах\n",
        "df.write.csv(\"/content/covid_aggregated.csv\", header=True)\n",
        "df.write.parquet(\"/content/covid_aggregated.parquet\")"
      ],
      "metadata": {
        "id": "ulYbcU7NyF_0"
      },
      "execution_count": 18,
      "outputs": []
    },
    {
      "cell_type": "code",
      "source": [
        "df = spark.read.csv(file_path, header=True, inferSchema=True)\n",
        "# Filter for Mongolia\n",
        "df_mongolia = df.filter(df['Country'] == 'Mongolia')\n",
        "\n",
        "# Show the data for Mongolia\n",
        "df_mongolia.show()\n",
        "\n",
        "# For Mongolian translation, you can set up the labels or display in Mongolian\n",
        "df_grouped = df_mongolia.groupBy(\"Country\").sum(\"Confirmed\").orderBy(\"sum(Confirmed)\", ascending=False)\n",
        "df_grouped.show()\n",
        "\n",
        "# Display result in Mongolian\n",
        "print(\"Хамгийн их батлагдсан тохиолдолтой улсууд:\")\n",
        "df_grouped.show()"
      ],
      "metadata": {
        "colab": {
          "base_uri": "https://localhost:8080/"
        },
        "id": "C0Gh0n1jyLUg",
        "outputId": "cc72dd42-ee1e-4448-98a2-9af71f95e484"
      },
      "execution_count": 19,
      "outputs": [
        {
          "output_type": "stream",
          "name": "stdout",
          "text": [
            "+----------+--------+---------+---------+------+\n",
            "|      Date| Country|Confirmed|Recovered|Deaths|\n",
            "+----------+--------+---------+---------+------+\n",
            "|2020-01-22|Mongolia|        0|        0|     0|\n",
            "|2020-01-23|Mongolia|        0|        0|     0|\n",
            "|2020-01-24|Mongolia|        0|        0|     0|\n",
            "|2020-01-25|Mongolia|        0|        0|     0|\n",
            "|2020-01-26|Mongolia|        0|        0|     0|\n",
            "|2020-01-27|Mongolia|        0|        0|     0|\n",
            "|2020-01-28|Mongolia|        0|        0|     0|\n",
            "|2020-01-29|Mongolia|        0|        0|     0|\n",
            "|2020-01-30|Mongolia|        0|        0|     0|\n",
            "|2020-01-31|Mongolia|        0|        0|     0|\n",
            "|2020-02-01|Mongolia|        0|        0|     0|\n",
            "|2020-02-02|Mongolia|        0|        0|     0|\n",
            "|2020-02-03|Mongolia|        0|        0|     0|\n",
            "|2020-02-04|Mongolia|        0|        0|     0|\n",
            "|2020-02-05|Mongolia|        0|        0|     0|\n",
            "|2020-02-06|Mongolia|        0|        0|     0|\n",
            "|2020-02-07|Mongolia|        0|        0|     0|\n",
            "|2020-02-08|Mongolia|        0|        0|     0|\n",
            "|2020-02-09|Mongolia|        0|        0|     0|\n",
            "|2020-02-10|Mongolia|        0|        0|     0|\n",
            "+----------+--------+---------+---------+------+\n",
            "only showing top 20 rows\n",
            "\n",
            "+--------+--------------+\n",
            "| Country|sum(Confirmed)|\n",
            "+--------+--------------+\n",
            "|Mongolia|     170280567|\n",
            "+--------+--------------+\n",
            "\n",
            "Хамгийн их батлагдсан тохиолдолтой улсууд:\n",
            "+--------+--------------+\n",
            "| Country|sum(Confirmed)|\n",
            "+--------+--------------+\n",
            "|Mongolia|     170280567|\n",
            "+--------+--------------+\n",
            "\n"
          ]
        }
      ]
    }
  ]
}