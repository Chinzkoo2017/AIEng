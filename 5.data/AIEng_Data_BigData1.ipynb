{
  "cells": [
    {
      "cell_type": "markdown",
      "source": [
        "[![Open In Colab](https://colab.research.google.com/assets/colab-badge.svg)](\n",
        "https://colab.research.google.com/drive/1KWV4ODsr30osaEt7KxfjhoMFop9JqpKh?usp=sharing)"
      ],
      "metadata": {
        "id": "c7CKReqkJhsW"
      },
      "id": "c7CKReqkJhsW"
    },
    {
      "cell_type": "markdown",
      "id": "36a0bbad",
      "metadata": {
        "id": "36a0bbad"
      },
      "source": [
        "# PySpark ETL Process"
      ]
    },
    {
      "cell_type": "markdown",
      "source": [
        "PySpark орчныг Jupyter Notebook дээр ашиглахын тулд хамгийн эхлээд PySpark-ийг суулгах хэрэгтэй:"
      ],
      "metadata": {
        "id": "T6PLu9gZ2SnV"
      },
      "id": "T6PLu9gZ2SnV"
    },
    {
      "cell_type": "code",
      "source": [
        "!pip install pyspark"
      ],
      "metadata": {
        "colab": {
          "base_uri": "https://localhost:8080/"
        },
        "id": "iVmPc62N2Rep",
        "outputId": "0b275546-dc50-4a61-d241-77809941c734"
      },
      "id": "iVmPc62N2Rep",
      "execution_count": 2,
      "outputs": [
        {
          "output_type": "stream",
          "name": "stdout",
          "text": [
            "Requirement already satisfied: pyspark in /usr/local/lib/python3.11/dist-packages (3.5.5)\n",
            "Requirement already satisfied: py4j==0.10.9.7 in /usr/local/lib/python3.11/dist-packages (from pyspark) (0.10.9.7)\n"
          ]
        }
      ]
    },
    {
      "cell_type": "markdown",
      "source": [
        "2. SparkSession үүсгэх:\n",
        "PySpark орчин үүсгэж, SparkSession үүсгэх:"
      ],
      "metadata": {
        "id": "EGJ_B89P2f99"
      },
      "id": "EGJ_B89P2f99"
    },
    {
      "cell_type": "code",
      "execution_count": 3,
      "id": "0e07708b",
      "metadata": {
        "id": "0e07708b",
        "colab": {
          "base_uri": "https://localhost:8080/"
        },
        "outputId": "b8052999-a86a-4b4c-ba8d-7ea852e06a99"
      },
      "outputs": [
        {
          "output_type": "stream",
          "name": "stdout",
          "text": [
            "PySpark version: 3.5.5\n"
          ]
        }
      ],
      "source": [
        "from pyspark.sql import SparkSession\n",
        "import urllib.request\n",
        "from io import StringIO\n",
        "\n",
        "# SparkSession үүсгэж байна\n",
        "spark = SparkSession.builder.appName(\"ETL with PySpark\").getOrCreate()\n",
        "\n",
        "# Spark-ийн хувийн конфигурацийг шалгах\n",
        "print(f\"PySpark version: {spark.version}\")"
      ]
    },
    {
      "cell_type": "code",
      "source": [
        "import urllib.request\n",
        "\n",
        "# URL болон хадгалах зам\n",
        "url = \"https://raw.githubusercontent.com/datasets/covid-19/master/data/countries-aggregated.csv\"\n",
        "file_path = \"/content/countries-aggregated.csv\"\n",
        "\n",
        "# Файлыг татаж авах\n",
        "urllib.request.urlretrieve(url, file_path)\n"
      ],
      "metadata": {
        "colab": {
          "base_uri": "https://localhost:8080/"
        },
        "id": "G65aqxek-jBS",
        "outputId": "e026059f-5dff-4701-bb39-18d57e6eda7e"
      },
      "id": "G65aqxek-jBS",
      "execution_count": 4,
      "outputs": [
        {
          "output_type": "execute_result",
          "data": {
            "text/plain": [
              "('/content/countries-aggregated.csv',\n",
              " <http.client.HTTPMessage at 0x7a589044a750>)"
            ]
          },
          "metadata": {},
          "execution_count": 4
        }
      ]
    },
    {
      "cell_type": "markdown",
      "source": [
        "1. Өгөгдөл унших (Extract):\n",
        "Өгөгдлийг CSV хэлбэрээр Google Colab-аас шууд унших:"
      ],
      "metadata": {
        "id": "9Gb6ymX72rZY"
      },
      "id": "9Gb6ymX72rZY"
    },
    {
      "cell_type": "code",
      "source": [
        "# Өгөгдөл унших (CSV форматаар)\n",
        "\n",
        "# DataFrame-д хөрвүүлэх\n",
        "df = spark.read.csv(file_path, header=True, inferSchema=True)\n",
        "\n",
        "\n",
        "\n",
        "# Эхний 5 мөрийг харах\n",
        "df.show(5)\n",
        "\n",
        "# ДатаFrame-ийн бүтцийг шалгах\n",
        "df.printSchema()\n",
        "\n",
        "# Статистик мэдээллийг харах\n",
        "df.describe().show()"
      ],
      "metadata": {
        "colab": {
          "base_uri": "https://localhost:8080/"
        },
        "id": "GxjC9VpH2szV",
        "outputId": "964445f4-52e9-4be7-9bbc-c3d5b9ba8df1"
      },
      "id": "GxjC9VpH2szV",
      "execution_count": 5,
      "outputs": [
        {
          "output_type": "stream",
          "name": "stdout",
          "text": [
            "+----------+-----------+---------+---------+------+\n",
            "|      Date|    Country|Confirmed|Recovered|Deaths|\n",
            "+----------+-----------+---------+---------+------+\n",
            "|2020-01-22|Afghanistan|        0|        0|     0|\n",
            "|2020-01-23|Afghanistan|        0|        0|     0|\n",
            "|2020-01-24|Afghanistan|        0|        0|     0|\n",
            "|2020-01-25|Afghanistan|        0|        0|     0|\n",
            "|2020-01-26|Afghanistan|        0|        0|     0|\n",
            "+----------+-----------+---------+---------+------+\n",
            "only showing top 5 rows\n",
            "\n",
            "root\n",
            " |-- Date: date (nullable = true)\n",
            " |-- Country: string (nullable = true)\n",
            " |-- Confirmed: integer (nullable = true)\n",
            " |-- Recovered: integer (nullable = true)\n",
            " |-- Deaths: integer (nullable = true)\n",
            "\n",
            "+-------+-----------+-----------------+------------------+-----------------+\n",
            "|summary|    Country|        Confirmed|         Recovered|           Deaths|\n",
            "+-------+-----------+-----------------+------------------+-----------------+\n",
            "|  count|     161568|           161568|            161568|           161568|\n",
            "|   mean|       NULL|736156.9340092097|145396.71189220637|13999.43608882947|\n",
            "| stddev|       NULL|3578884.222668364| 974827.5085659497|59113.58127111689|\n",
            "|    min|Afghanistan|                0|                 0|                0|\n",
            "|    max|   Zimbabwe|         80625120|          30974748|           988609|\n",
            "+-------+-----------+-----------------+------------------+-----------------+\n",
            "\n"
          ]
        }
      ]
    },
    {
      "cell_type": "markdown",
      "source": [
        "2. Өгөгдөл трансформ хийх (Transform):\n",
        "Өгөгдлийг шүүх, шинэ багануудад өгөгдөл нэмэх:"
      ],
      "metadata": {
        "id": "TaW8usau4BF8"
      },
      "id": "TaW8usau4BF8"
    },
    {
      "cell_type": "code",
      "execution_count": 6,
      "id": "8b9bee64",
      "metadata": {
        "id": "8b9bee64",
        "colab": {
          "base_uri": "https://localhost:8080/"
        },
        "outputId": "6c8c195f-c053-4142-8568-95590df88bfb"
      },
      "outputs": [
        {
          "output_type": "stream",
          "name": "stdout",
          "text": [
            "+--------------+--------------+\n",
            "|       Country|sum(Confirmed)|\n",
            "+--------------+--------------+\n",
            "|            US|   22963147887|\n",
            "|         India|   14681423060|\n",
            "|        Brazil|    9991733077|\n",
            "|        France|    4588774768|\n",
            "|United Kingdom|    4376486345|\n",
            "|        Russia|    4055399602|\n",
            "|        Turkey|    3505367544|\n",
            "|       Germany|    3007328664|\n",
            "|         Italy|    2914670880|\n",
            "|         Spain|    2754457388|\n",
            "+--------------+--------------+\n",
            "only showing top 10 rows\n",
            "\n"
          ]
        }
      ],
      "source": [
        "\n",
        "# Шинэ багана нэмж байна: 'Total' гэдэг баганад нийт тоо гаргах\n",
        "df = df.withColumn(\"Total\", df[\"Confirmed\"] + df[\"Deaths\"])\n",
        "\n",
        "# Батлагдсан тохиолдол 1000-аас их\n",
        "df_filtered = df.filter(df[\"Confirmed\"] > 1000)\n",
        "\n",
        "# Өгөгдлийн дараалал болон агрегаци\n",
        "df_grouped = df_filtered.groupBy(\"Country\").sum(\"Confirmed\").orderBy(\"sum(Confirmed)\", ascending=False)\n",
        "\n",
        "df_grouped.show(10)\n"
      ]
    },
    {
      "cell_type": "markdown",
      "source": [
        "🔑 3. Өгөгдөл хадгалах (Load):\n",
        "Шинэ өгөгдлийг CSV болон Parquet форматад хадгалах:"
      ],
      "metadata": {
        "id": "OJ2BdLHj4IiA"
      },
      "id": "OJ2BdLHj4IiA"
    },
    {
      "cell_type": "code",
      "execution_count": 7,
      "id": "ca689933",
      "metadata": {
        "id": "ca689933"
      },
      "outputs": [],
      "source": [
        "\n",
        "# Өгөгдлийг CSV болон Parquet хэлбэрээр хадгалах\n",
        "df.write.csv(\"/content/covid_aggregated.csv\", header=True)\n",
        "df.write.parquet(\"/content/covid_aggregated.parquet\")\n"
      ]
    },
    {
      "cell_type": "code",
      "source": [
        "df = spark.read.csv(file_path, header=True, inferSchema=True)\n",
        "# Filter for Mongolia\n",
        "df_mongolia = df.filter(df['Country'] == 'Mongolia')\n",
        "\n",
        "# Show the data for Mongolia\n",
        "df_mongolia.show()\n",
        "\n",
        "# For Mongolian translation, you can set up the labels or display in Mongolian\n",
        "df_grouped = df_mongolia.groupBy(\"Country\").sum(\"Confirmed\").orderBy(\"sum(Confirmed)\", ascending=False)\n",
        "df_grouped.show()\n",
        "\n",
        "# Display result in Mongolian\n",
        "print(\"Хамгийн их батлагдсан тохиолдолтой улсууд:\")\n",
        "df_grouped.show()\n"
      ],
      "metadata": {
        "colab": {
          "base_uri": "https://localhost:8080/"
        },
        "id": "wXbDkOCZCdFQ",
        "outputId": "bdbc4ad4-acdb-4f3c-b016-c85d75bb8315"
      },
      "id": "wXbDkOCZCdFQ",
      "execution_count": null,
      "outputs": [
        {
          "output_type": "stream",
          "name": "stdout",
          "text": [
            "+----------+--------+---------+---------+------+\n",
            "|      Date| Country|Confirmed|Recovered|Deaths|\n",
            "+----------+--------+---------+---------+------+\n",
            "|2020-01-22|Mongolia|        0|        0|     0|\n",
            "|2020-01-23|Mongolia|        0|        0|     0|\n",
            "|2020-01-24|Mongolia|        0|        0|     0|\n",
            "|2020-01-25|Mongolia|        0|        0|     0|\n",
            "|2020-01-26|Mongolia|        0|        0|     0|\n",
            "|2020-01-27|Mongolia|        0|        0|     0|\n",
            "|2020-01-28|Mongolia|        0|        0|     0|\n",
            "|2020-01-29|Mongolia|        0|        0|     0|\n",
            "|2020-01-30|Mongolia|        0|        0|     0|\n",
            "|2020-01-31|Mongolia|        0|        0|     0|\n",
            "|2020-02-01|Mongolia|        0|        0|     0|\n",
            "|2020-02-02|Mongolia|        0|        0|     0|\n",
            "|2020-02-03|Mongolia|        0|        0|     0|\n",
            "|2020-02-04|Mongolia|        0|        0|     0|\n",
            "|2020-02-05|Mongolia|        0|        0|     0|\n",
            "|2020-02-06|Mongolia|        0|        0|     0|\n",
            "|2020-02-07|Mongolia|        0|        0|     0|\n",
            "|2020-02-08|Mongolia|        0|        0|     0|\n",
            "|2020-02-09|Mongolia|        0|        0|     0|\n",
            "|2020-02-10|Mongolia|        0|        0|     0|\n",
            "+----------+--------+---------+---------+------+\n",
            "only showing top 20 rows\n",
            "\n",
            "+--------+--------------+\n",
            "| Country|sum(Confirmed)|\n",
            "+--------+--------------+\n",
            "|Mongolia|     170280567|\n",
            "+--------+--------------+\n",
            "\n",
            "Хамгийн их батлагдсан тохиолдолтой улсууд:\n",
            "+--------+--------------+\n",
            "| Country|sum(Confirmed)|\n",
            "+--------+--------------+\n",
            "|Mongolia|     170280567|\n",
            "+--------+--------------+\n",
            "\n"
          ]
        }
      ]
    }
  ],
  "metadata": {
    "colab": {
      "provenance": [],
      "gpuType": "T4"
    },
    "language_info": {
      "name": "python"
    },
    "kernelspec": {
      "name": "python3",
      "display_name": "Python 3"
    },
    "accelerator": "GPU"
  },
  "nbformat": 4,
  "nbformat_minor": 5
}