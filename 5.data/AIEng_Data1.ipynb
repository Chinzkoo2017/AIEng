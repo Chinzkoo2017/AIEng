{
  "nbformat": 4,
  "nbformat_minor": 0,
  "metadata": {
    "colab": {
      "provenance": []
    },
    "kernelspec": {
      "name": "python3",
      "display_name": "Python 3"
    },
    "language_info": {
      "name": "python"
    }
  },
  "cells": [
    {
      "cell_type": "markdown",
      "source": [
        "[![Open In Colab](https://colab.research.google.com/assets/colab-badge.svg)](\n",
        "https://colab.research.google.com/drive/1Zqyk0pL-baZwsPF2X73MNMehZ_Yv7_Ol?usp=sharing)"
      ],
      "metadata": {
        "id": "36XEbmAjpzx4"
      }
    },
    {
      "cell_type": "markdown",
      "source": [
        "Боловсруулах – ETL pipeline (Lab code)"
      ],
      "metadata": {
        "id": "ogb8MWUgqF_X"
      }
    },
    {
      "cell_type": "code",
      "execution_count": 16,
      "metadata": {
        "id": "c9s8ijxRpsHx",
        "colab": {
          "base_uri": "https://localhost:8080/"
        },
        "outputId": "8b1e5542-4234-4438-9988-7924107afc5e"
      },
      "outputs": [
        {
          "output_type": "stream",
          "name": "stdout",
          "text": [
            "    Id  Quantity  Price\n",
            "0    1       1.0    100\n",
            "1    2       3.0   2000\n",
            "2    3       4.0   3000\n",
            "3    4       8.0    100\n",
            "4    5       9.0   1550\n",
            "5    6       4.0   1650\n",
            "6    7       NaN   1750\n",
            "7    8       NaN   1850\n",
            "8    9       6.0   1950\n",
            "9   10       9.0   2050\n",
            "10  11      10.0   2150\n",
            "11  12      78.0   2250\n",
            "12  13       NaN   2350\n",
            "13  14       NaN   2450\n",
            "14  15      10.0   2550\n",
            "15  16      23.0   2650\n",
            "16  17      36.0   2750\n",
            "17  18      49.0   2850\n",
            "18  19      62.0   2950\n",
            "19  20      75.0   3050\n",
            "20  21      88.0   3150\n",
            "21  22     101.0   3250\n",
            "22  23     114.0   3350\n",
            "23  24     127.0   3450\n"
          ]
        }
      ],
      "source": [
        "import pandas as pd\n",
        "\n",
        "# Extract\n",
        "data_path = '/content/sales.csv'\n",
        "df = pd.read_csv(data_path)\n",
        "print(df)"
      ]
    },
    {
      "cell_type": "code",
      "source": [
        "# Transform\n",
        "df['Revenue'] = df['Quantity'] * df['Price']\n",
        "print(df)"
      ],
      "metadata": {
        "id": "Iic3342mpzR1",
        "colab": {
          "base_uri": "https://localhost:8080/"
        },
        "outputId": "e75ab9e7-99f4-4bd4-ef27-4f92b1423e1b"
      },
      "execution_count": 17,
      "outputs": [
        {
          "output_type": "stream",
          "name": "stdout",
          "text": [
            "    Id  Quantity  Price   Revenue\n",
            "0    1       1.0    100     100.0\n",
            "1    2       3.0   2000    6000.0\n",
            "2    3       4.0   3000   12000.0\n",
            "3    4       8.0    100     800.0\n",
            "4    5       9.0   1550   13950.0\n",
            "5    6       4.0   1650    6600.0\n",
            "6    7       NaN   1750       NaN\n",
            "7    8       NaN   1850       NaN\n",
            "8    9       6.0   1950   11700.0\n",
            "9   10       9.0   2050   18450.0\n",
            "10  11      10.0   2150   21500.0\n",
            "11  12      78.0   2250  175500.0\n",
            "12  13       NaN   2350       NaN\n",
            "13  14       NaN   2450       NaN\n",
            "14  15      10.0   2550   25500.0\n",
            "15  16      23.0   2650   60950.0\n",
            "16  17      36.0   2750   99000.0\n",
            "17  18      49.0   2850  139650.0\n",
            "18  19      62.0   2950  182900.0\n",
            "19  20      75.0   3050  228750.0\n",
            "20  21      88.0   3150  277200.0\n",
            "21  22     101.0   3250  328250.0\n",
            "22  23     114.0   3350  381900.0\n",
            "23  24     127.0   3450  438150.0\n"
          ]
        }
      ]
    },
    {
      "cell_type": "code",
      "source": [
        "#Load\n",
        "data_load_path = '/content/sales_transformed.csv'\n",
        "df.to_csv(data_load_path, index=False)"
      ],
      "metadata": {
        "id": "ataeOM9LtExv"
      },
      "execution_count": 18,
      "outputs": []
    }
  ]
}