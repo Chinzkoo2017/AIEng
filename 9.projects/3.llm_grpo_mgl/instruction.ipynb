{
 "cells": [
  {
   "cell_type": "markdown",
   "id": "f44132a3",
   "metadata": {},
   "source": [
    "Төсөл 3: LLM GRPO on MGL dataset \n",
    "\n",
    "Монгол хоолны жор эсвэл түүх гэсэн 2 сэдвээр сургах өгөгдөл бэлдэнэ\n",
    "ETL \n",
    "LLM тухайн бэлдсэн өгөгдөл дээр GRPO арга ашиглан сургалт хийнэ.\n"
   ]
  }
 ],
 "metadata": {
  "language_info": {
   "name": "python"
  }
 },
 "nbformat": 4,
 "nbformat_minor": 5
}
